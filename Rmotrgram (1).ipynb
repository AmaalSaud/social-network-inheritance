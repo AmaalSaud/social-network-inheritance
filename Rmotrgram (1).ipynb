{
  "nbformat": 4,
  "nbformat_minor": 0,
  "metadata": {
    "colab": {
      "provenance": []
    },
    "kernelspec": {
      "name": "python3",
      "display_name": "Python 3"
    },
    "language_info": {
      "name": "python"
    }
  },
  "cells": [
    {
      "cell_type": "code",
      "execution_count": 1,
      "metadata": {
        "id": "WIxysvGSe3Ln"
      },
      "outputs": [],
      "source": [
        "from datetime import datetime"
      ]
    },
    {
      "cell_type": "code",
      "source": [
        "class Post(object):\n",
        "  def __init__(self,text,timestamp=None):\n",
        "    self.text=text\n",
        "    self.user = None\n",
        "    if timestamp:\n",
        "          self.created_at = timestamp  # Use the provided timestamp\n",
        "    else:\n",
        "          self.created_at = datetime.now()  # Default to current time\n",
        "\n",
        "\n",
        "  def set_user(self, user):\n",
        "    self.user = user\n",
        "\n",
        "  def __str__(self):\n",
        "    return f'{self.user}: \"{self.text}\"\\n  {self.created_at.strftime(\"%A, %b %d, %Y\")}'"
      ],
      "metadata": {
        "id": "ndYrij15fRSW"
      },
      "execution_count": 10,
      "outputs": []
    },
    {
      "cell_type": "code",
      "source": [
        "class TextPost(Post):\n",
        "  pass\n"
      ],
      "metadata": {
        "id": "hcLO_AVdiALf"
      },
      "execution_count": 4,
      "outputs": []
    },
    {
      "cell_type": "code",
      "source": [
        "class PicturePost(Post):\n",
        "  def __ini__(self,text,image_url,timestamp=None):\n",
        "    super().__init__(text,timestamp)\n",
        "    self.image_url=image_url\n",
        "\n",
        "  def __str__(self):\n",
        "    return f'{super().__str__()}\\n pic URL:{self.image_url}'\n"
      ],
      "metadata": {
        "id": "rBF_e8UPjwM6"
      },
      "execution_count": 5,
      "outputs": []
    },
    {
      "cell_type": "code",
      "source": [
        "class CheckInPost(Post):\n",
        "  def __init__(self,text,latitude, longitude,timestamp=None):\n",
        "    super().__init__(text,timestamp)\n",
        "    self.latitude = latitude\n",
        "    self.longitude = longitude\n",
        "\n",
        "  def __str__(self):\n",
        "        return f'{self.user} Checked In: \"{self.text}\"\\n  {self.latitude}, {self.longitude}\\n  {self.created_at.strftime(\"%A, %b %d, %Y\")}'"
      ],
      "metadata": {
        "id": "3JsbmEAaj0yT"
      },
      "execution_count": 6,
      "outputs": []
    },
    {
      "cell_type": "code",
      "source": [
        "class User(object):\n",
        "    def __init__(self, first_name, last_name, email):\n",
        "        self.first_name= first_name\n",
        "        self.last_name= last_name\n",
        "        self.email=email\n",
        "        self.posts = []\n",
        "        self.following = []\n",
        "    def __str__(self):\n",
        "        return f'{self.first_name} {self.last_name}'\n",
        "\n",
        "\n",
        "    def add_post(self, post):\n",
        "        post.set_user(self)\n",
        "        self.posts.append(post)\n",
        "\n",
        "    def get_timeline(self):\n",
        "        timeline_posts = []\n",
        "        for user in self.following:\n",
        "           timeline_posts.extend(user.posts)\n",
        "        return sorted(timeline_posts, key=lambda post: post.created_at, reverse=True)\n",
        "\n",
        "    def follow(self, other):\n",
        "        if other_user not in self.following:\n",
        "            self.following.append(other_user)"
      ],
      "metadata": {
        "id": "9Zz_VdyQo4QX"
      },
      "execution_count": 8,
      "outputs": []
    }
  ]
}